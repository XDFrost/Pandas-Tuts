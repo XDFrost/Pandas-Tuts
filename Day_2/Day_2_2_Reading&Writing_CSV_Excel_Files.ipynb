{
 "cells": [
  {
   "attachments": {},
   "cell_type": "markdown",
   "metadata": {},
   "source": [
    "### Reading a CSV File"
   ]
  },
  {
   "attachments": {},
   "cell_type": "markdown",
   "metadata": {},
   "source": [
    "###"
   ]
  },
  {
   "attachments": {},
   "cell_type": "markdown",
   "metadata": {},
   "source": [
    "- Syntax:   pandas.read_csv(\"file_name.csv\")\n",
    "- If we are encountering useless rows, we'll use 'skiprows' arguement\n",
    "  \n",
    "  Syntax:   pandas.read_csv(\"file_name.csv\", skiprows = n)  where n is the number of rows to skip \n",
    "\n",
    "- We can use header in place of skiprows. ex: pandas.read_csv(\"file_name.csv\", header = n)\n",
    "\n",
    "- In order to add column names or an extra row on top, we'll use header = None\n",
    "\n",
    "  Syntax: pandas.read_csv(\"file_name.csv\", header = None, names = [\"column_1 name\", \"column_2 name\"...] )"
   ]
  },
  {
   "cell_type": "code",
   "execution_count": 2,
   "metadata": {},
   "outputs": [
    {
     "data": {
      "text/html": [
       "<div>\n",
       "<style scoped>\n",
       "    .dataframe tbody tr th:only-of-type {\n",
       "        vertical-align: middle;\n",
       "    }\n",
       "\n",
       "    .dataframe tbody tr th {\n",
       "        vertical-align: top;\n",
       "    }\n",
       "\n",
       "    .dataframe thead th {\n",
       "        text-align: right;\n",
       "    }\n",
       "</style>\n",
       "<table border=\"1\" class=\"dataframe\">\n",
       "  <thead>\n",
       "    <tr style=\"text-align: right;\">\n",
       "      <th></th>\n",
       "      <th>tickers</th>\n",
       "      <th>eps</th>\n",
       "      <th>revenue</th>\n",
       "      <th>price</th>\n",
       "      <th>people</th>\n",
       "    </tr>\n",
       "  </thead>\n",
       "  <tbody>\n",
       "    <tr>\n",
       "      <th>0</th>\n",
       "      <td>GOOGL</td>\n",
       "      <td>27.82</td>\n",
       "      <td>87</td>\n",
       "      <td>845</td>\n",
       "      <td>larry page</td>\n",
       "    </tr>\n",
       "    <tr>\n",
       "      <th>1</th>\n",
       "      <td>WMT</td>\n",
       "      <td>4.61</td>\n",
       "      <td>484</td>\n",
       "      <td>65</td>\n",
       "      <td>n.a.</td>\n",
       "    </tr>\n",
       "    <tr>\n",
       "      <th>2</th>\n",
       "      <td>MSFT</td>\n",
       "      <td>-1</td>\n",
       "      <td>85</td>\n",
       "      <td>64</td>\n",
       "      <td>bill gates</td>\n",
       "    </tr>\n",
       "    <tr>\n",
       "      <th>3</th>\n",
       "      <td>RIL</td>\n",
       "      <td>not available</td>\n",
       "      <td>50</td>\n",
       "      <td>1023</td>\n",
       "      <td>mukesh ambani</td>\n",
       "    </tr>\n",
       "    <tr>\n",
       "      <th>4</th>\n",
       "      <td>TATA</td>\n",
       "      <td>5.6</td>\n",
       "      <td>-1</td>\n",
       "      <td>n.a.</td>\n",
       "      <td>ratan tata</td>\n",
       "    </tr>\n",
       "  </tbody>\n",
       "</table>\n",
       "</div>"
      ],
      "text/plain": [
       "  tickers            eps  revenue price         people\n",
       "0   GOOGL          27.82       87   845     larry page\n",
       "1     WMT           4.61      484    65           n.a.\n",
       "2    MSFT             -1       85    64     bill gates\n",
       "3    RIL   not available       50  1023  mukesh ambani\n",
       "4    TATA            5.6       -1  n.a.     ratan tata"
      ]
     },
     "execution_count": 2,
     "metadata": {},
     "output_type": "execute_result"
    }
   ],
   "source": [
    "import pandas as pd\n",
    "\n",
    "df = pd.read_csv(\"stock_data.csv\")\n",
    "df"
   ]
  },
  {
   "cell_type": "markdown",
   "metadata": {},
   "source": [
    "###"
   ]
  },
  {
   "attachments": {},
   "cell_type": "markdown",
   "metadata": {},
   "source": [
    "- We'll use nrows arguements to read a specific number of rows excluding header"
   ]
  },
  {
   "cell_type": "code",
   "execution_count": 3,
   "metadata": {},
   "outputs": [
    {
     "data": {
      "text/html": [
       "<div>\n",
       "<style scoped>\n",
       "    .dataframe tbody tr th:only-of-type {\n",
       "        vertical-align: middle;\n",
       "    }\n",
       "\n",
       "    .dataframe tbody tr th {\n",
       "        vertical-align: top;\n",
       "    }\n",
       "\n",
       "    .dataframe thead th {\n",
       "        text-align: right;\n",
       "    }\n",
       "</style>\n",
       "<table border=\"1\" class=\"dataframe\">\n",
       "  <thead>\n",
       "    <tr style=\"text-align: right;\">\n",
       "      <th></th>\n",
       "      <th>tickers</th>\n",
       "      <th>eps</th>\n",
       "      <th>revenue</th>\n",
       "      <th>price</th>\n",
       "      <th>people</th>\n",
       "    </tr>\n",
       "  </thead>\n",
       "  <tbody>\n",
       "    <tr>\n",
       "      <th>0</th>\n",
       "      <td>GOOGL</td>\n",
       "      <td>27.82</td>\n",
       "      <td>87</td>\n",
       "      <td>845</td>\n",
       "      <td>larry page</td>\n",
       "    </tr>\n",
       "    <tr>\n",
       "      <th>1</th>\n",
       "      <td>WMT</td>\n",
       "      <td>4.61</td>\n",
       "      <td>484</td>\n",
       "      <td>65</td>\n",
       "      <td>n.a.</td>\n",
       "    </tr>\n",
       "    <tr>\n",
       "      <th>2</th>\n",
       "      <td>MSFT</td>\n",
       "      <td>-1.00</td>\n",
       "      <td>85</td>\n",
       "      <td>64</td>\n",
       "      <td>bill gates</td>\n",
       "    </tr>\n",
       "  </tbody>\n",
       "</table>\n",
       "</div>"
      ],
      "text/plain": [
       "  tickers    eps  revenue  price      people\n",
       "0   GOOGL  27.82       87    845  larry page\n",
       "1     WMT   4.61      484     65        n.a.\n",
       "2    MSFT  -1.00       85     64  bill gates"
      ]
     },
     "execution_count": 3,
     "metadata": {},
     "output_type": "execute_result"
    }
   ],
   "source": [
    "import pandas as pd\n",
    "\n",
    "df = pd.read_csv(\"stock_data.csv\", nrows=3)\n",
    "df"
   ]
  },
  {
   "attachments": {},
   "cell_type": "markdown",
   "metadata": {},
   "source": [
    "###"
   ]
  },
  {
   "attachments": {},
   "cell_type": "markdown",
   "metadata": {},
   "source": [
    "- In order to change the values to NAN (Not a Number), we'll use na_values attribute\n",
    "\n",
    "Syntax:   pd.read_csv(\"File_name.csv\", na_values = [\"Values to be changed to NAN\"])\n",
    "\n",
    "- We use this attribute to clean the data"
   ]
  },
  {
   "cell_type": "code",
   "execution_count": 4,
   "metadata": {},
   "outputs": [
    {
     "data": {
      "text/html": [
       "<div>\n",
       "<style scoped>\n",
       "    .dataframe tbody tr th:only-of-type {\n",
       "        vertical-align: middle;\n",
       "    }\n",
       "\n",
       "    .dataframe tbody tr th {\n",
       "        vertical-align: top;\n",
       "    }\n",
       "\n",
       "    .dataframe thead th {\n",
       "        text-align: right;\n",
       "    }\n",
       "</style>\n",
       "<table border=\"1\" class=\"dataframe\">\n",
       "  <thead>\n",
       "    <tr style=\"text-align: right;\">\n",
       "      <th></th>\n",
       "      <th>tickers</th>\n",
       "      <th>eps</th>\n",
       "      <th>revenue</th>\n",
       "      <th>price</th>\n",
       "      <th>people</th>\n",
       "    </tr>\n",
       "  </thead>\n",
       "  <tbody>\n",
       "    <tr>\n",
       "      <th>0</th>\n",
       "      <td>GOOGL</td>\n",
       "      <td>27.82</td>\n",
       "      <td>87</td>\n",
       "      <td>845.0</td>\n",
       "      <td>larry page</td>\n",
       "    </tr>\n",
       "    <tr>\n",
       "      <th>1</th>\n",
       "      <td>WMT</td>\n",
       "      <td>4.61</td>\n",
       "      <td>484</td>\n",
       "      <td>65.0</td>\n",
       "      <td>NaN</td>\n",
       "    </tr>\n",
       "    <tr>\n",
       "      <th>2</th>\n",
       "      <td>MSFT</td>\n",
       "      <td>-1.00</td>\n",
       "      <td>85</td>\n",
       "      <td>64.0</td>\n",
       "      <td>bill gates</td>\n",
       "    </tr>\n",
       "    <tr>\n",
       "      <th>3</th>\n",
       "      <td>RIL</td>\n",
       "      <td>NaN</td>\n",
       "      <td>50</td>\n",
       "      <td>1023.0</td>\n",
       "      <td>mukesh ambani</td>\n",
       "    </tr>\n",
       "    <tr>\n",
       "      <th>4</th>\n",
       "      <td>TATA</td>\n",
       "      <td>5.60</td>\n",
       "      <td>-1</td>\n",
       "      <td>NaN</td>\n",
       "      <td>ratan tata</td>\n",
       "    </tr>\n",
       "  </tbody>\n",
       "</table>\n",
       "</div>"
      ],
      "text/plain": [
       "  tickers    eps  revenue   price         people\n",
       "0   GOOGL  27.82       87   845.0     larry page\n",
       "1     WMT   4.61      484    65.0            NaN\n",
       "2    MSFT  -1.00       85    64.0     bill gates\n",
       "3    RIL     NaN       50  1023.0  mukesh ambani\n",
       "4    TATA   5.60       -1     NaN     ratan tata"
      ]
     },
     "execution_count": 4,
     "metadata": {},
     "output_type": "execute_result"
    }
   ],
   "source": [
    "import pandas as pd\n",
    "\n",
    "df = pd.read_csv(\"stock_data.csv\", na_values=[\"not available\", \"n.a.\"])\n",
    "df"
   ]
  },
  {
   "attachments": {},
   "cell_type": "markdown",
   "metadata": {},
   "source": [
    "###"
   ]
  },
  {
   "attachments": {},
   "cell_type": "markdown",
   "metadata": {},
   "source": [
    "- Now, we'll supply dictionary in place of list to change specific values to NaN\n",
    "\n",
    "Syntax:  pd.read_csv(\"stock_data.csv\", na_values = {\n",
    "    \n",
    "    'column name' : [\"value1\", \"vlaue2\"...]\n",
    "    \n",
    "})\n",
    "\n",
    "- Whenever we'll find the specified values in the mentioned column, we'll reduce it by NaN\n"
   ]
  },
  {
   "cell_type": "code",
   "execution_count": 5,
   "metadata": {},
   "outputs": [
    {
     "data": {
      "text/html": [
       "<div>\n",
       "<style scoped>\n",
       "    .dataframe tbody tr th:only-of-type {\n",
       "        vertical-align: middle;\n",
       "    }\n",
       "\n",
       "    .dataframe tbody tr th {\n",
       "        vertical-align: top;\n",
       "    }\n",
       "\n",
       "    .dataframe thead th {\n",
       "        text-align: right;\n",
       "    }\n",
       "</style>\n",
       "<table border=\"1\" class=\"dataframe\">\n",
       "  <thead>\n",
       "    <tr style=\"text-align: right;\">\n",
       "      <th></th>\n",
       "      <th>tickers</th>\n",
       "      <th>eps</th>\n",
       "      <th>revenue</th>\n",
       "      <th>price</th>\n",
       "      <th>people</th>\n",
       "    </tr>\n",
       "  </thead>\n",
       "  <tbody>\n",
       "    <tr>\n",
       "      <th>0</th>\n",
       "      <td>GOOGL</td>\n",
       "      <td>27.82</td>\n",
       "      <td>87.0</td>\n",
       "      <td>845.0</td>\n",
       "      <td>larry page</td>\n",
       "    </tr>\n",
       "    <tr>\n",
       "      <th>1</th>\n",
       "      <td>WMT</td>\n",
       "      <td>4.61</td>\n",
       "      <td>484.0</td>\n",
       "      <td>65.0</td>\n",
       "      <td>NaN</td>\n",
       "    </tr>\n",
       "    <tr>\n",
       "      <th>2</th>\n",
       "      <td>MSFT</td>\n",
       "      <td>-1.00</td>\n",
       "      <td>85.0</td>\n",
       "      <td>64.0</td>\n",
       "      <td>bill gates</td>\n",
       "    </tr>\n",
       "    <tr>\n",
       "      <th>3</th>\n",
       "      <td>RIL</td>\n",
       "      <td>NaN</td>\n",
       "      <td>50.0</td>\n",
       "      <td>1023.0</td>\n",
       "      <td>mukesh ambani</td>\n",
       "    </tr>\n",
       "    <tr>\n",
       "      <th>4</th>\n",
       "      <td>TATA</td>\n",
       "      <td>5.60</td>\n",
       "      <td>NaN</td>\n",
       "      <td>NaN</td>\n",
       "      <td>ratan tata</td>\n",
       "    </tr>\n",
       "  </tbody>\n",
       "</table>\n",
       "</div>"
      ],
      "text/plain": [
       "  tickers    eps  revenue   price         people\n",
       "0   GOOGL  27.82     87.0   845.0     larry page\n",
       "1     WMT   4.61    484.0    65.0            NaN\n",
       "2    MSFT  -1.00     85.0    64.0     bill gates\n",
       "3    RIL     NaN     50.0  1023.0  mukesh ambani\n",
       "4    TATA   5.60      NaN     NaN     ratan tata"
      ]
     },
     "execution_count": 5,
     "metadata": {},
     "output_type": "execute_result"
    }
   ],
   "source": [
    "import pandas as pd\n",
    "\n",
    "df = pd.read_csv(\"stock_data.csv\", na_values = {\n",
    "    \n",
    "    'eps' : [\"not available\", \"n.a.\"],\n",
    "    'revenue' : [\"not available\", \"n.a.\", -1],\n",
    "    'people' : [\"not available\", \"n.a.\"],\n",
    "    'price' : [\"not available\", \"n.a.\"]\n",
    "    \n",
    "})\n",
    "df"
   ]
  },
  {
   "attachments": {},
   "cell_type": "markdown",
   "metadata": {},
   "source": [
    "###"
   ]
  },
  {
   "cell_type": "markdown",
   "metadata": {},
   "source": [
    "###"
   ]
  },
  {
   "cell_type": "markdown",
   "metadata": {},
   "source": [
    "###"
   ]
  },
  {
   "attachments": {},
   "cell_type": "markdown",
   "metadata": {},
   "source": [
    "### Writing back in a CSV file"
   ]
  },
  {
   "attachments": {},
   "cell_type": "markdown",
   "metadata": {},
   "source": [
    "###"
   ]
  },
  {
   "attachments": {},
   "cell_type": "markdown",
   "metadata": {},
   "source": [
    "- df.to_csv is used to write contents in a newly made csv file\n",
    " \n",
    "    Syntax: df.to_csv(\"Name_of_file.csv\")\n",
    "\n",
    "- index attribute is used to include or exclude an index\n",
    "\n",
    "    Syntax: df.to_csv(\"Name_of_file.csv\", index = False)"
   ]
  },
  {
   "cell_type": "code",
   "execution_count": 6,
   "metadata": {},
   "outputs": [],
   "source": [
    "import pandas as pd\n",
    "\n",
    "df.to_csv('new.csv', index = False)"
   ]
  },
  {
   "attachments": {},
   "cell_type": "markdown",
   "metadata": {},
   "source": [
    "###"
   ]
  },
  {
   "attachments": {},
   "cell_type": "markdown",
   "metadata": {},
   "source": [
    "- In order to get a specified number of columns in the new csv file, we'll use columns = ['column name 1', 'column name 2'...]\n",
    "\n",
    "Syntax:  df.to_csv(\"Name_of_file.csv\", columns = [\"column name 1\", \"column name 2\"...])"
   ]
  },
  {
   "cell_type": "code",
   "execution_count": 7,
   "metadata": {},
   "outputs": [
    {
     "data": {
      "text/plain": [
       "Index(['tickers', 'eps', 'revenue', 'price', 'people'], dtype='object')"
      ]
     },
     "execution_count": 7,
     "metadata": {},
     "output_type": "execute_result"
    }
   ],
   "source": [
    "df.columns"
   ]
  },
  {
   "cell_type": "code",
   "execution_count": 10,
   "metadata": {},
   "outputs": [],
   "source": [
    "df.to_csv(\"new.csv\", columns = ['tickers', 'eps'])"
   ]
  },
  {
   "cell_type": "markdown",
   "metadata": {},
   "source": [
    "###"
   ]
  },
  {
   "cell_type": "markdown",
   "metadata": {},
   "source": [
    "###"
   ]
  },
  {
   "cell_type": "markdown",
   "metadata": {},
   "source": [
    "###"
   ]
  },
  {
   "attachments": {},
   "cell_type": "markdown",
   "metadata": {},
   "source": [
    "### READING AN EXCEL FILE"
   ]
  },
  {
   "attachments": {},
   "cell_type": "markdown",
   "metadata": {},
   "source": [
    "###"
   ]
  },
  {
   "attachments": {},
   "cell_type": "markdown",
   "metadata": {},
   "source": [
    "- Syntax:   pandas.read_csv(\"file_name.csv\", \"Sheet no.\")"
   ]
  },
  {
   "cell_type": "code",
   "execution_count": 23,
   "metadata": {},
   "outputs": [
    {
     "data": {
      "text/html": [
       "<div>\n",
       "<style scoped>\n",
       "    .dataframe tbody tr th:only-of-type {\n",
       "        vertical-align: middle;\n",
       "    }\n",
       "\n",
       "    .dataframe tbody tr th {\n",
       "        vertical-align: top;\n",
       "    }\n",
       "\n",
       "    .dataframe thead th {\n",
       "        text-align: right;\n",
       "    }\n",
       "</style>\n",
       "<table border=\"1\" class=\"dataframe\">\n",
       "  <thead>\n",
       "    <tr style=\"text-align: right;\">\n",
       "      <th></th>\n",
       "      <th>tickers</th>\n",
       "      <th>eps</th>\n",
       "      <th>revenue</th>\n",
       "      <th>price</th>\n",
       "      <th>people</th>\n",
       "    </tr>\n",
       "  </thead>\n",
       "  <tbody>\n",
       "    <tr>\n",
       "      <th>0</th>\n",
       "      <td>GOOGL</td>\n",
       "      <td>27.82</td>\n",
       "      <td>87</td>\n",
       "      <td>845</td>\n",
       "      <td>larry page</td>\n",
       "    </tr>\n",
       "    <tr>\n",
       "      <th>1</th>\n",
       "      <td>WMT</td>\n",
       "      <td>4.61</td>\n",
       "      <td>484</td>\n",
       "      <td>65</td>\n",
       "      <td>n.a.</td>\n",
       "    </tr>\n",
       "    <tr>\n",
       "      <th>2</th>\n",
       "      <td>MSFT</td>\n",
       "      <td>-1</td>\n",
       "      <td>85</td>\n",
       "      <td>64</td>\n",
       "      <td>bill gates</td>\n",
       "    </tr>\n",
       "    <tr>\n",
       "      <th>3</th>\n",
       "      <td>RIL</td>\n",
       "      <td>not available</td>\n",
       "      <td>50</td>\n",
       "      <td>1023</td>\n",
       "      <td>mukesh ambani</td>\n",
       "    </tr>\n",
       "    <tr>\n",
       "      <th>4</th>\n",
       "      <td>TATA</td>\n",
       "      <td>5.6</td>\n",
       "      <td>-1</td>\n",
       "      <td>n.a.</td>\n",
       "      <td>ratan tata</td>\n",
       "    </tr>\n",
       "  </tbody>\n",
       "</table>\n",
       "</div>"
      ],
      "text/plain": [
       "  tickers            eps  revenue price         people\n",
       "0   GOOGL          27.82       87   845     larry page\n",
       "1     WMT           4.61      484    65           n.a.\n",
       "2    MSFT             -1       85    64     bill gates\n",
       "3    RIL   not available       50  1023  mukesh ambani\n",
       "4    TATA            5.6       -1  n.a.     ratan tata"
      ]
     },
     "execution_count": 23,
     "metadata": {},
     "output_type": "execute_result"
    }
   ],
   "source": [
    "import pandas as pd\n",
    "\n",
    "df = pd.read_excel(\"stock_data.xlsx\", \"Sheet1\")\n",
    "df"
   ]
  },
  {
   "attachments": {},
   "cell_type": "markdown",
   "metadata": {},
   "source": [
    "###"
   ]
  },
  {
   "attachments": {},
   "cell_type": "markdown",
   "metadata": {},
   "source": [
    "- In order to convert any value into another, we'll use converters\n",
    "- converters are used as functions\n",
    "\n",
    "Syntax:   \n",
    "\n",
    "def function_name(cell):\n",
    "    if cell == 'Arguement':\n",
    "        return \"returning_value\"\n",
    "    return cell\n",
    "\n",
    "pd.read_excel(\"File_name_xlsx\",\"SheetNO.\", converters = {\n",
    "    \"Column_name\" : \"Function name\"\n",
    "})\n"
   ]
  },
  {
   "cell_type": "code",
   "execution_count": 25,
   "metadata": {},
   "outputs": [
    {
     "data": {
      "text/html": [
       "<div>\n",
       "<style scoped>\n",
       "    .dataframe tbody tr th:only-of-type {\n",
       "        vertical-align: middle;\n",
       "    }\n",
       "\n",
       "    .dataframe tbody tr th {\n",
       "        vertical-align: top;\n",
       "    }\n",
       "\n",
       "    .dataframe thead th {\n",
       "        text-align: right;\n",
       "    }\n",
       "</style>\n",
       "<table border=\"1\" class=\"dataframe\">\n",
       "  <thead>\n",
       "    <tr style=\"text-align: right;\">\n",
       "      <th></th>\n",
       "      <th>tickers</th>\n",
       "      <th>eps</th>\n",
       "      <th>revenue</th>\n",
       "      <th>price</th>\n",
       "      <th>people</th>\n",
       "    </tr>\n",
       "  </thead>\n",
       "  <tbody>\n",
       "    <tr>\n",
       "      <th>0</th>\n",
       "      <td>GOOGL</td>\n",
       "      <td>27.82</td>\n",
       "      <td>87</td>\n",
       "      <td>845</td>\n",
       "      <td>larry page</td>\n",
       "    </tr>\n",
       "    <tr>\n",
       "      <th>1</th>\n",
       "      <td>WMT</td>\n",
       "      <td>4.61</td>\n",
       "      <td>484</td>\n",
       "      <td>65</td>\n",
       "      <td>Sam Walter</td>\n",
       "    </tr>\n",
       "    <tr>\n",
       "      <th>2</th>\n",
       "      <td>MSFT</td>\n",
       "      <td>-1.00</td>\n",
       "      <td>85</td>\n",
       "      <td>64</td>\n",
       "      <td>bill gates</td>\n",
       "    </tr>\n",
       "    <tr>\n",
       "      <th>3</th>\n",
       "      <td>RIL</td>\n",
       "      <td>NaN</td>\n",
       "      <td>50</td>\n",
       "      <td>1023</td>\n",
       "      <td>mukesh ambani</td>\n",
       "    </tr>\n",
       "    <tr>\n",
       "      <th>4</th>\n",
       "      <td>TATA</td>\n",
       "      <td>5.60</td>\n",
       "      <td>-1</td>\n",
       "      <td>n.a.</td>\n",
       "      <td>ratan tata</td>\n",
       "    </tr>\n",
       "  </tbody>\n",
       "</table>\n",
       "</div>"
      ],
      "text/plain": [
       "  tickers    eps  revenue price         people\n",
       "0   GOOGL  27.82       87   845     larry page\n",
       "1     WMT   4.61      484    65     Sam Walter\n",
       "2    MSFT  -1.00       85    64     bill gates\n",
       "3    RIL     NaN       50  1023  mukesh ambani\n",
       "4    TATA   5.60       -1  n.a.     ratan tata"
      ]
     },
     "execution_count": 25,
     "metadata": {},
     "output_type": "execute_result"
    }
   ],
   "source": [
    "import pandas as pd\n",
    "\n",
    "def convert_people_cell(cell):\n",
    "    if cell == \"n.a.\":\n",
    "        return \"Sam Walter\"\n",
    "    return cell\n",
    "\n",
    "def convert_aps_cell(cell):\n",
    "    if cell == \"not available\":\n",
    "        return None\n",
    "    return cell\n",
    "\n",
    "df = pd.read_excel(\"stock_data.xlsx\", \"Sheet1\", converters = {\n",
    "    'people' : convert_people_cell,\n",
    "    'eps' : convert_aps_cell\n",
    "})\n",
    "\n",
    "df"
   ]
  },
  {
   "attachments": {},
   "cell_type": "markdown",
   "metadata": {},
   "source": [
    "###"
   ]
  },
  {
   "cell_type": "markdown",
   "metadata": {},
   "source": [
    "###"
   ]
  },
  {
   "cell_type": "markdown",
   "metadata": {},
   "source": [
    "###"
   ]
  },
  {
   "attachments": {},
   "cell_type": "markdown",
   "metadata": {},
   "source": [
    "### WRITE TO AN EXCEL FILE"
   ]
  },
  {
   "cell_type": "markdown",
   "metadata": {},
   "source": [
    "###"
   ]
  },
  {
   "attachments": {},
   "cell_type": "markdown",
   "metadata": {},
   "source": [
    "- We need to give the sheet_name attribute in order to make and use an xlsx file\n",
    "\n",
    "Syntax:   df.to_xlsx(\"file_name.xlsx\", sheet_name = \"Sheet_name\")\n",
    "\n",
    "- We can use index = False if we don't want to write index"
   ]
  },
  {
   "cell_type": "code",
   "execution_count": 39,
   "metadata": {},
   "outputs": [],
   "source": [
    "import pandas as pd\n",
    "\n",
    "df.to_excel(\"new.xlsx\", sheet_name = \"Stocks\")"
   ]
  },
  {
   "attachments": {},
   "cell_type": "markdown",
   "metadata": {},
   "source": [
    "###"
   ]
  },
  {
   "attachments": {},
   "cell_type": "markdown",
   "metadata": {},
   "source": [
    "- If we want to start from any other index than 0, we'll use startrow and startcol attribute\n",
    "\n",
    "Syntax: df.to_excel(\"FIle_name.xlsx\", sheet_name = \"Name_of_sheet\", startrow = \"x_axis_index\", startcol = \"y_axis_index\")"
   ]
  },
  {
   "cell_type": "code",
   "execution_count": 40,
   "metadata": {},
   "outputs": [],
   "source": [
    "import pandas as pd\n",
    "\n",
    "df.to_excel(\"new.xlsx\", sheet_name = \"Stocks\", startrow = 1, startcol = 2)"
   ]
  },
  {
   "attachments": {},
   "cell_type": "markdown",
   "metadata": {},
   "source": [
    "###"
   ]
  },
  {
   "attachments": {},
   "cell_type": "markdown",
   "metadata": {},
   "source": [
    "- Writing 2 different dataframes in same excel file but in different sheets\n",
    "- We'll use ExcelWriter class\n",
    "\n",
    "\n",
    "    Syntax:  \n",
    "    \n",
    "    with pd.ExcelWriter(\"name_of_file.xlsx\") as writer:\n",
    "        dataframe1_name.to_excel(writer, sheet_name = \"Sheet_name\")\n",
    "        dataframe2_name.to_excel(writer, sheet_name = \"Sheet_name\")"
   ]
  },
  {
   "cell_type": "code",
   "execution_count": 41,
   "metadata": {},
   "outputs": [],
   "source": [
    "df_stocks = pd.DataFrame({\n",
    "    \n",
    "    'tickets' : ['GOOGLE', 'WMT', 'MSFT'],\n",
    "    'Price' : [845, 65, 54],\n",
    "    'pe' : [30.37, 14.26, 30.97],\n",
    "    'eps' : [27.28, 4.61, 2.12]\n",
    "    \n",
    "})\n",
    "\n",
    "df_weather = pd.DataFrame({\n",
    "    \n",
    "    'day' : ['1/1/2017', '1/2/2017', '1/3/2017',],\n",
    "    'temperature' : [32, 35, 28],\n",
    "    'event' : ['Rainy', 'Sunny', 'Snow']\n",
    "\n",
    "})"
   ]
  },
  {
   "cell_type": "code",
   "execution_count": 42,
   "metadata": {},
   "outputs": [],
   "source": [
    "with pd.ExcelWriter('stocks_weather.xlsx') as writer:\n",
    "    df_stocks.to_excel(writer, sheet_name=\"stocks\")\n",
    "    df_weather.to_excel(writer, sheet_name=\"weather\")"
   ]
  },
  {
   "attachments": {},
   "cell_type": "markdown",
   "metadata": {},
   "source": [
    "###\n"
   ]
  },
  {
   "attachments": {},
   "cell_type": "markdown",
   "metadata": {},
   "source": [
    "Other Properties for Reading/writing CSV/EXCEL file\n",
    "\n",
    "https://pandas.pydata.org/docs/reference/api/pandas.DataFrame.to_csv.html\n",
    "https://pandas.pydata.org/docs/reference/api/pandas.read_csv.html\n",
    "https://pandas.pydata.org/docs/reference/api/pandas.DataFrame.to_excel.html\n",
    "https://pandas.pydata.org/docs/reference/api/pandas.read_excel.html"
   ]
  }
 ],
 "metadata": {
  "kernelspec": {
   "display_name": "Python 3",
   "language": "python",
   "name": "python3"
  },
  "language_info": {
   "codemirror_mode": {
    "name": "ipython",
    "version": 3
   },
   "file_extension": ".py",
   "mimetype": "text/x-python",
   "name": "python",
   "nbconvert_exporter": "python",
   "pygments_lexer": "ipython3",
   "version": "3.10.11"
  },
  "orig_nbformat": 4
 },
 "nbformat": 4,
 "nbformat_minor": 2
}
